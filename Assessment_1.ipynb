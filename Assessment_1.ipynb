{
  "nbformat": 4,
  "nbformat_minor": 0,
  "metadata": {
    "colab": {
      "provenance": []
    },
    "kernelspec": {
      "name": "python3",
      "display_name": "Python 3"
    },
    "language_info": {
      "name": "python"
    }
  },
  "cells": [
    {
      "cell_type": "code",
      "execution_count": 1,
      "metadata": {
        "id": "Dh2V4AKcDDhs"
      },
      "outputs": [],
      "source": [
        "import pandas as pd\n",
        "import numpy as np\n",
        "import random\n",
        "from datetime import datetime"
      ]
    },
    {
      "cell_type": "code",
      "source": [
        "def getTickerPrice(ticker: str, date: datetime) -> float:\n",
        "    return random.uniform(1, 100)  # Example implementation"
      ],
      "metadata": {
        "id": "fG_EbKRZDNmj"
      },
      "execution_count": 2,
      "outputs": []
    },
    {
      "cell_type": "code",
      "source": [
        "trades = pd.DataFrame({\n",
        "    'Date': [datetime(2023, 1, 1), datetime(2023, 1, 2), datetime(2023, 1, 3)],\n",
        "    'Symbol': ['AAPL', 'GOOGL', 'MSFT'],\n",
        "    'Side': ['buy', 'sell', 'buy'],\n",
        "    'Size': [10, 5, 8],\n",
        "    'Price': [150, 2500, 300]\n",
        "})"
      ],
      "metadata": {
        "id": "LGXrlIc8FGn3"
      },
      "execution_count": 3,
      "outputs": []
    },
    {
      "cell_type": "code",
      "source": [
        "def calculate_trade_performance(trades: pd.DataFrame) -> pd.Series:\n",
        "    # Handle potential edge cases\n",
        "    if trades.empty:\n",
        "        return pd.Series({})\n",
        "\n",
        "    # Fill missing values\n",
        "    trades['Size'] = trades['Size'].fillna(1)\n",
        "\n",
        "    # Sort trades by date\n",
        "    trades = trades.sort_values(by='Date')\n",
        "\n",
        "    # Initialize metrics\n",
        "    metrics = {\n",
        "        'Total Profit/Loss': 0,\n",
        "        'Average Profit/Loss per Trade': 0,\n",
        "        'Win Rate': 0,\n",
        "        'Loss Rate': 0,\n",
        "        'Maximum Drawdown': 0,\n",
        "        'Sharpe Ratio': 0,\n",
        "        'Sortino Ratio': 0,\n",
        "        'Profit Factor': 0,\n",
        "        'Trade Duration': 0,\n",
        "        'Annualized Return': 0\n",
        "    }\n",
        "\n",
        "    # Calculate the necessary values\n",
        "    profits = []\n",
        "    returns = []\n",
        "    durations = []\n",
        "\n",
        "    for i, trade in trades.iterrows():\n",
        "        # Get the current market price\n",
        "        current_price = getTickerPrice(trade['Symbol'], trade['Date'])\n",
        "\n",
        "        # Calculate profit/loss\n",
        "        if trade['Side'] == 'buy':\n",
        "            profit = (current_price - trade['Price']) * trade['Size']\n",
        "        else:  # 'sell'\n",
        "            profit = (trade['Price'] - current_price) * trade['Size']\n",
        "\n",
        "        profits.append(profit)\n",
        "        returns.append(profit / (trade['Price'] * trade['Size']))\n",
        "        durations.append(1)  # Assuming 1 day duration for simplicity\n",
        "\n",
        "    # Total Profit/Loss\n",
        "    metrics['Total Profit/Loss'] = sum(profits)\n",
        "\n",
        "    # Average Profit/Loss per Trade\n",
        "    metrics['Average Profit/Loss per Trade'] = np.mean(profits)\n",
        "\n",
        "    # Win Rate\n",
        "    win_trades = [p for p in profits if p > 0]\n",
        "    metrics['Win Rate'] = len(win_trades) / len(profits)\n",
        "\n",
        "    # Loss Rate\n",
        "    loss_trades = [p for p in profits if p < 0]\n",
        "    metrics['Loss Rate'] = len(loss_trades) / len(profits)\n",
        "\n",
        "    # Maximum Drawdown\n",
        "    cumulative_profit = np.cumsum(profits)\n",
        "    rolling_max = np.maximum.accumulate(cumulative_profit)\n",
        "    drawdowns = rolling_max - cumulative_profit\n",
        "    metrics['Maximum Drawdown'] = np.max(drawdowns)\n",
        "\n",
        "    # Sharpe Ratio\n",
        "    returns = np.array(returns)\n",
        "    metrics['Sharpe Ratio'] = np.mean(returns) / np.std(returns) * np.sqrt(252)  # Assuming daily returns\n",
        "\n",
        "    # Sortino Ratio\n",
        "    downside_returns = returns[returns < 0]\n",
        "    metrics['Sortino Ratio'] = np.mean(returns) / np.std(downside_returns) * np.sqrt(252)\n",
        "\n",
        "    # Profit Factor\n",
        "    gross_profit = sum(p for p in profits if p > 0)\n",
        "    gross_loss = -sum(p for p in profits if p < 0)\n",
        "    metrics['Profit Factor'] = gross_profit / gross_loss if gross_loss != 0 else np.nan\n",
        "\n",
        "    # Trade Duration\n",
        "    metrics['Trade Duration'] = np.mean(durations)\n",
        "\n",
        "    # Annualized Return\n",
        "    total_return = cumulative_profit[-1]\n",
        "    total_days = (trades['Date'].max() - trades['Date'].min()).days\n",
        "    metrics['Annualized Return'] = (1 + total_return) ** (252 / total_days) - 1  # Assuming 252 trading days in a year\n",
        "\n",
        "    return pd.Series(metrics)"
      ],
      "metadata": {
        "id": "Z14GxWjwFSvD"
      },
      "execution_count": 4,
      "outputs": []
    },
    {
      "cell_type": "code",
      "source": [
        "performance_metrics = calculate_trade_performance(trades)\n",
        "print(performance_metrics)"
      ],
      "metadata": {
        "colab": {
          "base_uri": "https://localhost:8080/"
        },
        "id": "A6Odxu32Fcep",
        "outputId": "aee5add3-e0f6-4022-dccf-360c6b193d3c"
      },
      "execution_count": 5,
      "outputs": [
        {
          "output_type": "stream",
          "name": "stdout",
          "text": [
            "Total Profit/Loss                9346.617269\n",
            "Average Profit/Loss per Trade    3115.539090\n",
            "Win Rate                            0.333333\n",
            "Loss Rate                           0.666667\n",
            "Maximum Drawdown                 1919.552182\n",
            "Sharpe Ratio                       -2.565091\n",
            "Sortino Ratio                     -15.681272\n",
            "Profit Factor                       4.415286\n",
            "Trade Duration                      1.000000\n",
            "Annualized Return                        inf\n",
            "dtype: float64\n"
          ]
        },
        {
          "output_type": "stream",
          "name": "stderr",
          "text": [
            "<ipython-input-4-f7449644f166>:84: RuntimeWarning: overflow encountered in scalar power\n",
            "  metrics['Annualized Return'] = (1 + total_return) ** (252 / total_days) - 1  # Assuming 252 trading days in a year\n"
          ]
        }
      ]
    }
  ]
}